{
 "cells": [
  {
   "cell_type": "code",
   "execution_count": 1,
   "metadata": {
    "id": "LV7RP5qS_3Du"
   },
   "outputs": [
    {
     "name": "stdout",
     "output_type": "stream",
     "text": [
      "WARNING:tensorflow:From /home/ubuntu/anaconda3/envs/tensorflow_p37/gpu_cuda10.0/lib/python3.7/site-packages/tensorflow_core/__init__.py:1473: The name tf.estimator.inputs is deprecated. Please use tf.compat.v1.estimator.inputs instead.\n",
      "\n"
     ]
    }
   ],
   "source": [
    "import tensorflow as tf\n",
    "from sensebert import SenseBert\n",
    "import numpy as np"
   ]
  },
  {
   "cell_type": "code",
   "execution_count": 2,
   "metadata": {
    "colab": {
     "base_uri": "https://localhost:8080/",
     "height": 425
    },
    "id": "redyfS9fA2k6",
    "outputId": "834c289b-44e9-4e7d-c345-bad791b18b5e",
    "scrolled": true
   },
   "outputs": [],
   "source": [
    "# with tf.compat.v1.Session() as session:\n",
    "#     sensebert_model = SenseBert(\"sensebert-base-uncased\", session=session)  # or sensebert-large-uncased\n",
    "#     input_ids, input_mask = sensebert_model.tokenize([\"I went to the store to buy some groceries.\", \"The store was closed.\"])\n",
    "#     model_outputs = sensebert_model.run(input_ids, input_mask)\n",
    "#     contextualized_embeddings, mlm_logits, supersense_logits = model_outputs  # these are NumPy arrays\n",
    "#     print(model_outputs)\n",
    "#     print(sensebert_model.tokenizer.convert_ids_to_senses([np.argmax(supersense_logits[0][9])]))\n",
    "#     print(sensebert_model)\n",
    "#     print(supersense_logits.shape)\n",
    "#     print(sensebert_model.tokenize([\"I went to the store to buy some groceries.\", \"The store was closed.\"]))"
   ]
  },
  {
   "cell_type": "code",
   "execution_count": 3,
   "metadata": {
    "colab": {
     "base_uri": "https://localhost:8080/"
    },
    "id": "_E3CepT0Cl-Z",
    "outputId": "4abde6a5-fc55-432a-b7fd-e59b4dc5d8a2"
   },
   "outputs": [
    {
     "name": "stderr",
     "output_type": "stream",
     "text": [
      "[nltk_data] Downloading package wordnet to /home/ubuntu/nltk_data...\n",
      "[nltk_data]   Package wordnet is already up-to-date!\n"
     ]
    },
    {
     "name": "stdout",
     "output_type": "stream",
     "text": [
      "belabor\n",
      "belabor\n",
      "['sentenc', 'sentenc', 'excus', 'excus', 'excus']\n",
      "buy\n",
      "bought\n"
     ]
    }
   ],
   "source": [
    "import nltk\n",
    "nltk.download('wordnet')\n",
    "from nltk.stem.wordnet import WordNetLemmatizer\n",
    "from nltk.stem import PorterStemmer\n",
    "\n",
    "print(WordNetLemmatizer().lemmatize('belabor', pos=\"V\".lower()))\n",
    "print(WordNetLemmatizer().lemmatize('belabored', pos=\"v\"))\n",
    "\n",
    "ps = PorterStemmer()\n",
    "words = [\"sentence\", \"sentences\", \"excuse\", \"excused\", \"excuses\"]\n",
    "\n",
    "words = [ps.stem(w) for w in words]\n",
    "print(words)\n",
    "\n",
    "print(ps.stem(\"buy\"))\n",
    "print(ps.stem(\"bought\"))"
   ]
  },
  {
   "cell_type": "code",
   "execution_count": 4,
   "metadata": {
    "id": "HFzwE637C-NC"
   },
   "outputs": [],
   "source": [
    "from sklearn.dummy import DummyClassifier"
   ]
  },
  {
   "cell_type": "code",
   "execution_count": 5,
   "metadata": {
    "id": "Qyv_m5e8DA17"
   },
   "outputs": [],
   "source": [
    "import xml.etree.ElementTree as ET\n",
    "from nltk.corpus import wordnet as wn"
   ]
  },
  {
   "cell_type": "code",
   "execution_count": 6,
   "metadata": {
    "id": "nBV9nARuC9NZ"
   },
   "outputs": [],
   "source": [
    "def getDataFromXML(filename):\n",
    "    d42_data = dict()\n",
    "    tree = ET.parse(filename)\n",
    "    root = tree.getroot()\n",
    "\n",
    "    for category in root:\n",
    "        for sentence in category:\n",
    "            ids = []\n",
    "            s = \"\"\n",
    "            for word in sentence:\n",
    "                if word.text in \".,!?;:)]}/%\":\n",
    "                    s = s[: len(s) - 1]\n",
    "                s += word.text\n",
    "                if word.text not in \"([{/$\":\n",
    "                    s += \" \"\n",
    "\n",
    "                if word.tag == \"instance\":\n",
    "                    ids.append((word.attrib[\"id\"], word.text, word.attrib[\"pos\"]))\n",
    "            s = s[: len(s) - 1]\n",
    "\n",
    "            for idd in ids:\n",
    "                pos = wn.NOUN\n",
    "                if idd[2] == \"VERB\":\n",
    "                    pos = wn.VERB\n",
    "                elif idd[2] == \"ADJ\":\n",
    "                    pos = wn.VERB\n",
    "                elif idd[2] == \"ADV\":\n",
    "                    pos = wn.ADV\n",
    "                d42_data[idd[0]] = (idd[1], s, pos)\n",
    "    return d42_data\n",
    "\n",
    "d42_data = getDataFromXML(\"wsd_hard_benchmark/42D/42D.data.xml\")\n",
    "\n",
    "d42_gold = dict()\n",
    "with open(\"wsd_hard_benchmark/42D/42D.gold.key.txt\") as file:\n",
    "    lines = file.readlines()\n",
    "    for line in lines:\n",
    "        l = line.strip().split()\n",
    "        idd = l[0]\n",
    "        senseKey = l[1]\n",
    "        options = []\n",
    "        for i in range(1, len(l)):\n",
    "            options.append(l[i])\n",
    "\n",
    "        d42_gold[idd] = options\n"
   ]
  },
  {
   "cell_type": "code",
   "execution_count": 38,
   "metadata": {
    "colab": {
     "base_uri": "https://localhost:8080/"
    },
    "id": "sFDdWY-vHVds",
    "outputId": "0904c9a2-1267-428d-dda5-78e690eeecda"
   },
   "outputs": [
    {
     "name": "stdout",
     "output_type": "stream",
     "text": [
      "370\n",
      "{'42D.d000.s000.t004': ('living', 'The vast majority of living fish belong here (18,000 species or so), which rival the insects in their multitude of adaptations and variety of external form.', 'v'), '42D.d000.s000.t006': ('belong', 'The vast majority of living fish belong here (18,000 species or so), which rival the insects in their multitude of adaptations and variety of external form.', 'v'), '42D.d000.s001.t014': ('depths', 'They can live in hot springs, or can be dredged from the deepest abyssal depths of the ocean; the latter are grotesque gargoyles that seem to belong in the paintings of Hieronymus Bosch.', 'n'), '42D.d000.s002.t002': ('rapid', 'Some are rapid swimmers gathered together in silvery shoals, others sluggish bottom-dwellers spending most of their time buried in sediment.', 'v'), '42D.d000.s002.t008': ('shoals', 'Some are rapid swimmers gathered together in silvery shoals, others sluggish bottom-dwellers spending most of their time buried in sediment.', 'n'), '42D.d000.s003.t007': ('fins', 'Most have a characteristic arrangement of paired fins, but these can be lost, or fantastically modified to form fans or poisonous barbs.', 'n'), '42D.d000.s003.t017': ('modified', 'Most have a characteristic arrangement of paired fins, but these can be lost, or fantastically modified to form fans or poisonous barbs.', 'v'), '42D.d000.s003.t019': ('form', 'Most have a characteristic arrangement of paired fins, but these can be lost, or fantastically modified to form fans or poisonous barbs.', 'v'), '42D.d000.s005.t003': ('evolution', 'Their rapidity of evolution is well-known: dozens of species have evolved in African fresh water lakes within the last million years.', 'n'), '42D.d000.s006.t005': ('range', 'They have as wide a range of life habits as any group, from scavengers, grazers, filter feeders, vegetarians, omnivores, to fierce predators with reputations to rival that of the sharks.', 'n'), '42D.d000.s006.t014': ('scavengers', 'They have as wide a range of life habits as any group, from scavengers, grazers, filter feeders, vegetarians, omnivores, to fierce predators with reputations to rival that of the sharks.', 'n'), '42D.d000.s006.t019': ('feeders', 'They have as wide a range of life habits as any group, from scavengers, grazers, filter feeders, vegetarians, omnivores, to fierce predators with reputations to rival that of the sharks.', 'n'), '42D.d000.s006.t023': ('omnivores', 'They have as wide a range of life habits as any group, from scavengers, grazers, filter feeders, vegetarians, omnivores, to fierce predators with reputations to rival that of the sharks.', 'n'), '42D.d000.s006.t027': ('predators', 'They have as wide a range of life habits as any group, from scavengers, grazers, filter feeders, vegetarians, omnivores, to fierce predators with reputations to rival that of the sharks.', 'n'), '42D.d000.s007.t003': ('scales', 'A coating of scales is characteristic, and the gills are covered by a movable flap (the operculum).', 'n'), '42D.d000.s007.t009': ('gills', 'A coating of scales is characteristic, and the gills are covered by a movable flap (the operculum).', 'n'), '42D.d000.s007.t014': ('movable', 'A coating of scales is characteristic, and the gills are covered by a movable flap (the operculum).', 'v'), '42D.d000.s007.t015': ('flap', 'A coating of scales is characteristic, and the gills are covered by a movable flap (the operculum).', 'n'), '42D.d001.s005.t002': ('Villas', 'The Victorian Villas here are even more splendid than in Cheyne Walk — reminiscent of Cheltenham with their cast iron decoration.', 'n'), '42D.d001.s006.t006': ('frontages', 'Styles vary from Jacobean with multi-gabled frontages to ‘ Tudorbethan ’ with battlements and pinnacles.', 'n'), '42D.d001.s007.t006': ('corner', 'Take time to look at the corner of the Hospital wall where stands a memorial to King Edward VII surmounted by a bronze of St. George and the Dragon by the eminent sculptor Sir George Frampton.', 'n'), '42D.d001.s007.t014': ('memorial', 'Take time to look at the corner of the Hospital wall where stands a memorial to King Edward VII surmounted by a bronze of St. George and the Dragon by the eminent sculptor Sir George Frampton.', 'n'), '42D.d001.s007.t021': ('bronze', 'Take time to look at the corner of the Hospital wall where stands a memorial to King Edward VII surmounted by a bronze of St. George and the Dragon by the eminent sculptor Sir George Frampton.', 'n'), '42D.d001.s007.t028': ('Sir', 'Take time to look at the corner of the Hospital wall where stands a memorial to King Edward VII surmounted by a bronze of St. George and the Dragon by the eminent sculptor Sir George Frampton.', 'n'), '42D.d001.s008.t007': ('bill', 'The General Hospital at the top of the bill was built by Samuel Saxon in 1793.', 'n'), '42D.d002.s000.t003': ('Owen', 'In Britain, Owen and Mivart argued that many cases of evolution consisted of parallel lines of development within the same group, all driven in the same direction as though by an internally programmed force.', 'n'), '42D.d002.s000.t011': ('evolution', 'In Britain, Owen and Mivart argued that many cases of evolution consisted of parallel lines of development within the same group, all driven in the same direction as though by an internally programmed force.', 'n'), '42D.d002.s000.t014': ('parallel', 'In Britain, Owen and Mivart argued that many cases of evolution consisted of parallel lines of development within the same group, all driven in the same direction as though by an internally programmed force.', 'v'), '42D.d002.s001.t007': ('tree', \"Darwin 's image of an irregularly branching tree thus did not fit the evidence.\", 'n'), '42D.d002.s002.t011': ('fossils', 'The American neo-Lamarckians made the same point, arguing that the fossils seemed to support a theory of directed evolution, not one based on the selection of random variation by the local environment.', 'n'), '42D.d002.s002.t019': ('evolution', 'The American neo-Lamarckians made the same point, arguing that the fossils seemed to support a theory of directed evolution, not one based on the selection of random variation by the local environment.', 'n'), '42D.d002.s002.t029': ('variation', 'The American neo-Lamarckians made the same point, arguing that the fossils seemed to support a theory of directed evolution, not one based on the selection of random variation by the local environment.', 'n'), '42D.d002.s003.t001': ('inheritance', 'The inheritance of acquired characters explained these trends as a consequence of the animals specializing for a particular way of life chosen by their ancestors.', 'n'), '42D.d002.s003.t004': ('characters', 'The inheritance of acquired characters explained these trends as a consequence of the animals specializing for a particular way of life chosen by their ancestors.', 'n'), '42D.d002.s003.t014': ('specializing', 'The inheritance of acquired characters explained these trends as a consequence of the animals specializing for a particular way of life chosen by their ancestors.', 'v'), '42D.d002.s005.t015': ('evolution', 'Hyatt in particular argued that the fossil invertebrates he studied showed patterns of progressive, Lamarckian evolution followed by an inexorable decline into racial senility and extinction.', 'n'), '42D.d002.s005.t023': ('senility', 'Hyatt in particular argued that the fossil invertebrates he studied showed patterns of progressive, Lamarckian evolution followed by an inexorable decline into racial senility and extinction.', 'n'), '42D.d002.s005.t025': ('extinction', 'Hyatt in particular argued that the fossil invertebrates he studied showed patterns of progressive, Lamarckian evolution followed by an inexorable decline into racial senility and extinction.', 'n'), '42D.d002.s006.t008': ('characters', 'Whole groups of organisms developed increasingly bizarre non-adaptive characters until they eventually disappeared altogether.', 'n'), '42D.d002.s007.t016': ('variation', 'By the end of the century many paleontologists supported the theory of orthogenesis, in which variation was supposed to be pushed in some preordained direction by forces built into the constitution of the organisms.', 'n'), '42D.d003.s000.t002': ('shrew', 'This short-tailed shrew can inflict an unpleasant bite with the help of spittle from its venomous salivary glands.', 'n'), '42D.d003.s001.t027': ('fangs', 'As the teeth sink into the flesh, the pressure of this action squeezes venom out of the glands and down the hollow tubes of the paired fangs.', 'n'), '42D.d004.s004.t022': ('terminals', '‘ Our plan is that our IT systems will enable users to order direct from the supplier by electronic means from their terminals. This is the way many other forward-thinking organisations are going. ’', 'n'), '42D.d004.s005.t016': ('single', 'As Robert points out this is the first time that this function has been run as a single corporate entity.', 'v'), '42D.d004.s006.t018': ('partnership', '‘ Our new structure is already paying dividends. We still have location-based teams but these work in partnership to make the best use of specific expertise at particular sites. We also have a small team responsible for driving corporate initiatives. For example they are looking at how the best of what other people do can be applied in the AEA. ’', 'n'), '42D.d005.s001.t008': ('oxidized', 'The methane of the coal seam could also be oxidized to formaldehyde, the basis of the acetal polymers, or even to higher alcohols — the other half of the polyester molecule.', 'v'), '42D.d005.s001.t013': ('basis', 'The methane of the coal seam could also be oxidized to formaldehyde, the basis of the acetal polymers, or even to higher alcohols — the other half of the polyester molecule.', 'n'), '42D.d005.s001.t023': ('alcohols', 'The methane of the coal seam could also be oxidized to formaldehyde, the basis of the acetal polymers, or even to higher alcohols — the other half of the polyester molecule.', 'n'), '42D.d005.s003.t001': ('formed', 'Once formed in place, they could be extracted by the Frasch process — pumping superheated stream down a borehole to blow them to the surface in molten form.', 'v'), '42D.d005.s003.t020': ('blow', 'Once formed in place, they could be extracted by the Frasch process — pumping superheated stream down a borehole to blow them to the surface in molten form.', 'v'), '42D.d005.s004.t000': ('So', 'So DREADCO chemists are using all the cunning of modern catalytic chemistry to polymerize coal in situ.', 'r'), '42D.d005.s007.t001': ('seam', 'The seam will be converted into a vast bed of crude acetal/styrene/ester copolymer.', 'n'), '42D.d005.s007.t010': ('crude', 'The seam will be converted into a vast bed of crude acetal/styrene/ester copolymer.', 'v'), '42D.d005.s009.t000': ('Oil', 'Oil and gas will provide our energy: they are good at that.', 'n'), '42D.d006.s000.t007': ('ranges', 'It can be equally successful to use ranges of blues with silver, and whites and creams always blend well with the lighter coloured leaves.', 'n'), '42D.d006.s000.t011': ('silver', 'It can be equally successful to use ranges of blues with silver, and whites and creams always blend well with the lighter coloured leaves.', 'n'), '42D.d006.s000.t018': ('blend', 'It can be equally successful to use ranges of blues with silver, and whites and creams always blend well with the lighter coloured leaves.', 'v'), '42D.d006.s002.t024': ('colour', 'If you have chosen a flower that is very dark and striking, make sure that at least one of the other flowers has the same colour value.', 'n'), '42D.d006.s003.t007': ('drawn', \"Otherwise, one 's eye will be drawn to the darkest flower or leaf in the picture, which will act as a distraction from the overall shape and impact of the picture.\", 'v'), '42D.d006.s003.t022': ('distraction', \"Otherwise, one 's eye will be drawn to the darkest flower or leaf in the picture, which will act as a distraction from the overall shape and impact of the picture.\", 'n'), '42D.d006.s005.t016': ('really', 'A subtle blend of golden yellows, reds and browns can be spoilt by using a really overpowering bright orange flower right in the middle of the design.', 'r'), '42D.d006.s006.t026': ('vivid', 'It would be much better to use several bright orange and bright yellow flowers, plus some strong-coloured leaves, to make a very striking and vivid picture.', 'v'), '42D.d006.s007.t003': ('brilliant', \"If you use brilliant white flowers, such as larkspur or some of the daisies, you must ensure that there are several light tones in the picture, otherwise one 's eye will automatically focus on the white flowers and only then fall back on to the rest of the picture.\", 'v'), '42D.d007.s000.t008': ('provide', 'It, therefore, has two schemes that provide for longer terms funding for particular departments to build up a research programme in a particular area: there are now 150 of these groups at German universities.', 'v'), '42D.d007.s000.t020': ('programme', 'It, therefore, has two schemes that provide for longer terms funding for particular departments to build up a research programme in a particular area: there are now 150 of these groups at German universities.', 'n'), '42D.d007.s003.t022': ('universities', 'Some would like the elitist trend to permeate even further, in the form of elite faculties, or even whole elite universities.', 'n'), '42D.d007.s006.t006': ('grand', 'A much quoted observation by one grand old man of German science policy, Professor Heinz Maier Leibnitz, points out that German researchers who have done well in stints in the US tend to stagnate when they return to the German system.', 'v'), '42D.d008.s000.t000': ('Turning over', 'Turning over the machine reveals the high and low speed switch on the top.', 'v'), '42D.d008.s002.t004': ('sits', 'Just behind this control sits the chuck key holder.', 'v'), '42D.d008.s002.t006': ('chuck', 'Just behind this control sits the chuck key holder.', 'n'), '42D.d008.s003.t009': ('screwing', 'This 9.6 volt machine was put to the test screwing plasterboard to timber beams, without pilot holes.', 'v'), '42D.d008.s004.t009': ('screws', 'After driving an estimated 250 of the 20 mm screws, the drill was still going strong.', 'n'), '42D.d008.s005.t004': ('performance', 'Makita has published estimated performance figures with a range of screws/bits, into a variety of materials, in the instruction booklet.', 'n'), '42D.d008.s005.t008': ('range', 'Makita has published estimated performance figures with a range of screws/bits, into a variety of materials, in the instruction booklet.', 'n'), '42D.d008.s005.t010': ('screws', 'Makita has published estimated performance figures with a range of screws/bits, into a variety of materials, in the instruction booklet.', 'n'), '42D.d008.s005.t012': ('bits', 'Makita has published estimated performance figures with a range of screws/bits, into a variety of materials, in the instruction booklet.', 'n'), '42D.d008.s007.t010': ('performance', 'If nothing else, it gives an indication of the performance to be expected from a well-maintained battery.', 'n'), '42D.d008.s008.t025': ('pad', 'As would be expected from one of the three largest power tool manufacturers, there is a host of accessories on offer, from a polishing pad to a range of 28 screwdriver bits.', 'n'), '42D.d008.s008.t028': ('range', 'As would be expected from one of the three largest power tool manufacturers, there is a host of accessories on offer, from a polishing pad to a range of 28 screwdriver bits.', 'n'), '42D.d008.s008.t032': ('bits', 'As would be expected from one of the three largest power tool manufacturers, there is a host of accessories on offer, from a polishing pad to a range of 28 screwdriver bits.', 'n'), '42D.d008.s010.t013': ('toggle', 'Some parts of the switchgear worked well, such as the forward/reverse toggle, with FWD and REV etched on the sides of the body so the drill did not have to be constantly turned upside down.', 'n'), '42D.d008.s010.t025': ('body', 'Some parts of the switchgear worked well, such as the forward/reverse toggle, with FWD and REV etched on the sides of the body so the drill did not have to be constantly turned upside down.', 'n'), '42D.d009.s000.t007': ('dressings', 'During this three-year period they applied two dressings of farmyard manure and in the intervening year they applied an indigenous legume crop as green manure.', 'n'), '42D.d009.s001.t016': ('fertility', 'This system enabled them to maintain an exceptionally dense population, on the best principles of fertility conservation.', 'n'), '42D.d009.s002.t013': ('production', 'The Wakara were not exceptional in combining the ownership of livestock with crop production, but they were exceptional in integrating the two.', 'n'), '42D.d009.s003.t037': ('production', 'Other African communities, such as the Lozi on the Barotse floodplain in western Zambia, and, on a smaller scale the Yoruba in western Nigeria, maintained livestock herds which were essentially secondary to their crop production, providing manure for crops on an ad hoc basis.', 'n'), '42D.d009.s003.t042': ('crops', 'Other African communities, such as the Lozi on the Barotse floodplain in western Zambia, and, on a smaller scale the Yoruba in western Nigeria, maintained livestock herds which were essentially secondary to their crop production, providing manure for crops on an ad hoc basis.', 'n'), '42D.d009.s003.t045': ('ad hoc', 'Other African communities, such as the Lozi on the Barotse floodplain in western Zambia, and, on a smaller scale the Yoruba in western Nigeria, maintained livestock herds which were essentially secondary to their crop production, providing manure for crops on an ad hoc basis.', 'v'), '42D.d009.s004.t001': ('true', 'The true pastoralists, such as the Fulani, the Dinka of southern Sudan and the Masai of the east African plains were in a different category.', 'v'), '42D.d009.s004.t012': ('Sudan', 'The true pastoralists, such as the Fulani, the Dinka of southern Sudan and the Masai of the east African plains were in a different category.', 'n'), '42D.d009.s006.t008': ('production', \"They might make an incidental contribution to crop production by agreeing to graze their herds over settled farmers ' land once it had been harvested.\", 'n'), '42D.d009.s006.t012': ('graze', \"They might make an incidental contribution to crop production by agreeing to graze their herds over settled farmers ' land once it had been harvested.\", 'v'), '42D.d009.s006.t016': ('settled', \"They might make an incidental contribution to crop production by agreeing to graze their herds over settled farmers ' land once it had been harvested.\", 'v'), '42D.d010.s000.t006': ('annually', 'Tourist numbers currently total 50 million annually, and demand is expected to continue growing well into the next century.', 'r'), '42D.d010.s001.t001': ('deforestation', 'Widespread deforestation to make way for ski slopes has eroded topsoil, increasing the incidence of avalanches.', 'n'), '42D.d010.s002.t006': ('Alpine', 'Large numbers of rare and beautiful Alpine plants are threatened with extinction.', 'v'), '42D.d010.s002.t011': ('extinction', 'Large numbers of rare and beautiful Alpine plants are threatened with extinction.', 'n'), '42D.d010.s004.t017': ('programme', 'Alp Action is to launch a number of conservation projects, including reforestation, together with a public education programme.', 'n'), '42D.d010.s005.t006': ('Alpine', 'It will operate in all the Alpine countries (Germany, France, Switzerland, Italy, Austria and Liechtenstein).', 'v'), '42D.d010.s006.t013': ('lynx', 'Specific plans include the reintroduction of captive-bred brown bears to Austria, and European lynx to the eastern Alps.', 'n'), '42D.d010.s007.t022': ('ancestral', 'To mark the 700th anniversary of the founding of the Swiss Confederation, Alp Action is reintroducing the bearded vulture (lammergeyer) to its ancestral home in the Swiss Alps.', 'v'), '42D.d010.s008.t012': ('stabilise', \"The organization also plans anti-erosion hedging in Liechtenstein, and moves to stabilise the level of France 's Lac Lamoura, where several rare fish species are under imminent threat.\", 'v'), '42D.d011.s000.t006': ('baited', 'On waters which can not be baited from a boat, and where swims are too distant to be fed by catapult, the use of a swimfeeder to distribute loose feed around the hookbait is often a deadly method.', 'v'), '42D.d011.s000.t036': ('often', 'On waters which can not be baited from a boat, and where swims are too distant to be fed by catapult, the use of a swimfeeder to distribute loose feed around the hookbait is often a deadly method.', 'r'), '42D.d011.s001.t017': ('cork', 'Where the bottom is weedy (ordinary soft weed, not algae) you can incorporate a cork or piece of polystyrene into the feeder to keep it on top of the weed.', 'n'), '42D.d011.s001.t024': ('feeder', 'Where the bottom is weedy (ordinary soft weed, not algae) you can incorporate a cork or piece of polystyrene into the feeder to keep it on top of the weed.', 'n'), '42D.d011.s002.t008': ('experiment', 'I invariably use two rods, one to experiment with baits and methods, and to cast in different areas in and around the swim.', 'v'), '42D.d011.s002.t010': ('baits', 'I invariably use two rods, one to experiment with baits and methods, and to cast in different areas in and around the swim.', 'n'), '42D.d011.s003.t001': ('anglers', 'Some anglers use three rods, but I have found that at least one of these tends to be neglected.', 'n'), '42D.d011.s004.t009': ('bite', 'Very often it is this rod that gets a bite.', 'n'), '42D.d011.s006.t002': ('bream', 'In every bream swim there is one very small area which will produce more bream than all the rest of the swim put together.', 'n'), '42D.d011.s006.t014': ('bream', 'In every bream swim there is one very small area which will produce more bream than all the rest of the swim put together.', 'n'), '42D.d011.s007.t038': ('implanted', 'If you take care to note landmarks on the far bank, use a swim marker to aid judgment, and make sure you have noted the exact spot, every time you cast you will soon have this area firmly implanted in your mind.', 'v'), '42D.d012.s000.t012': ('lager', 'As brewers pay lower rates of excise duty on weaker beers, lager is a highly profitable business for the giant brewing combines.', 'n'), '42D.d012.s000.t022': ('combines', 'As brewers pay lower rates of excise duty on weaker beers, lager is a highly profitable business for the giant brewing combines.', 'n'), '42D.d012.s001.t010': ('keg', 'CAMRA is also concerned at the way in which many keg beers are brewed and the ingredients used.', 'n'), '42D.d012.s002.t002': ('boiling', 'Mashing, boiling and fermentation are often speeded up in large breweries using such devices as continuous fermentation and high gravity brewing, both of which produce standardised bland beers of mediocre quality.', 'n'), '42D.d012.s002.t007': ('speeded up', 'Mashing, boiling and fermentation are often speeded up in large breweries using such devices as continuous fermentation and high gravity brewing, both of which produce standardised bland beers of mediocre quality.', 'v'), '42D.d012.s003.t004': ('speed', 'In order to further speed and cheapen the process, inferior ingredients such as maize, rice, triticale, wheat flour and potato starch are used and helped on their way by chemicals that hasten fermentation, cut down on the yeast head in the vessels to allow more wort to be treated, and to give a lively fake head to the finished product.', 'v'), '42D.d012.s003.t040': ('head', 'In order to further speed and cheapen the process, inferior ingredients such as maize, rice, triticale, wheat flour and potato starch are used and helped on their way by chemicals that hasten fermentation, cut down on the yeast head in the vessels to allow more wort to be treated, and to give a lively fake head to the finished product.', 'n'), '42D.d012.s003.t043': ('vessels', 'In order to further speed and cheapen the process, inferior ingredients such as maize, rice, triticale, wheat flour and potato starch are used and helped on their way by chemicals that hasten fermentation, cut down on the yeast head in the vessels to allow more wort to be treated, and to give a lively fake head to the finished product.', 'n'), '42D.d012.s003.t047': ('wort', 'In order to further speed and cheapen the process, inferior ingredients such as maize, rice, triticale, wheat flour and potato starch are used and helped on their way by chemicals that hasten fermentation, cut down on the yeast head in the vessels to allow more wort to be treated, and to give a lively fake head to the finished product.', 'n'), '42D.d012.s003.t058': ('head', 'In order to further speed and cheapen the process, inferior ingredients such as maize, rice, triticale, wheat flour and potato starch are used and helped on their way by chemicals that hasten fermentation, cut down on the yeast head in the vessels to allow more wort to be treated, and to give a lively fake head to the finished product.', 'n'), '42D.d012.s004.t002': ('classified', 'Beer is classified as a foodstuff and yet it is excluded from the legal requirements to list ingredients.', 'v'), '42D.d012.s004.t005': ('foodstuff', 'Beer is classified as a foodstuff and yet it is excluded from the legal requirements to list ingredients.', 'n'), '42D.d012.s005.t016': ('malt', 'Drinkers have a right to know whether the beer they are drinking is a genuine barley malt product or whether it is stuffed full of such tasty ingredients as corn syrup, propylene glycol alginate, amyloglucosidase, papain enzymes and potassium metabisulphite.', 'n'), '42D.d013.s000.t010': ('attained', 'The first cairned top, High Pike Hill, is then quickly attained and soon the rim of cliffs trends due south, giving direction to the walk and providing aerial views of Mallerstang below.', 'v'), '42D.d013.s000.t019': ('south', 'The first cairned top, High Pike Hill, is then quickly attained and soon the rim of cliffs trends due south, giving direction to the walk and providing aerial views of Mallerstang below.', 'n'), '42D.d013.s001.t038': ('range', 'Peat hags, typical of the Pennine uplands and indicating a gritstone base, mark the way but the walking is easy to the next prominent top, High Seat, at 2328 feet the highest point on the range.', 'n'), '42D.d013.s002.t014': ('surmounted', 'Beyond, the Edge becomes less well defined and is succeeded by steep slopes, surmounted by inclining eastwards and following the county boundary and the watershed and keeping always to the height of land in surroundings of utter desolation yet of profound influence on the landscape, for three major rivers have their source hereabouts: the streams flowing east are tributaries of the River Swale, those to the west drain an area known as Eden Springs, the source of the River Eden, and a short distance to the south are the beginnings of the River Ure.', 'v'), '42D.d013.s002.t031': ('height', 'Beyond, the Edge becomes less well defined and is succeeded by steep slopes, surmounted by inclining eastwards and following the county boundary and the watershed and keeping always to the height of land in surroundings of utter desolation yet of profound influence on the landscape, for three major rivers have their source hereabouts: the streams flowing east are tributaries of the River Swale, those to the west drain an area known as Eden Springs, the source of the River Eden, and a short distance to the south are the beginnings of the River Ure.', 'n'), '42D.d013.s002.t037': ('utter', 'Beyond, the Edge becomes less well defined and is succeeded by steep slopes, surmounted by inclining eastwards and following the county boundary and the watershed and keeping always to the height of land in surroundings of utter desolation yet of profound influence on the landscape, for three major rivers have their source hereabouts: the streams flowing east are tributaries of the River Swale, those to the west drain an area known as Eden Springs, the source of the River Eden, and a short distance to the south are the beginnings of the River Ure.', 'v'), '42D.d013.s002.t038': ('desolation', 'Beyond, the Edge becomes less well defined and is succeeded by steep slopes, surmounted by inclining eastwards and following the county boundary and the watershed and keeping always to the height of land in surroundings of utter desolation yet of profound influence on the landscape, for three major rivers have their source hereabouts: the streams flowing east are tributaries of the River Swale, those to the west drain an area known as Eden Springs, the source of the River Eden, and a short distance to the south are the beginnings of the River Ure.', 'n'), '42D.d013.s002.t039': ('yet', 'Beyond, the Edge becomes less well defined and is succeeded by steep slopes, surmounted by inclining eastwards and following the county boundary and the watershed and keeping always to the height of land in surroundings of utter desolation yet of profound influence on the landscape, for three major rivers have their source hereabouts: the streams flowing east are tributaries of the River Swale, those to the west drain an area known as Eden Springs, the source of the River Eden, and a short distance to the south are the beginnings of the River Ure.', 'r'), '42D.d013.s002.t069': ('west', 'Beyond, the Edge becomes less well defined and is succeeded by steep slopes, surmounted by inclining eastwards and following the county boundary and the watershed and keeping always to the height of land in surroundings of utter desolation yet of profound influence on the landscape, for three major rivers have their source hereabouts: the streams flowing east are tributaries of the River Swale, those to the west drain an area known as Eden Springs, the source of the River Eden, and a short distance to the south are the beginnings of the River Ure.', 'n'), '42D.d013.s002.t088': ('south', 'Beyond, the Edge becomes less well defined and is succeeded by steep slopes, surmounted by inclining eastwards and following the county boundary and the watershed and keeping always to the height of land in surroundings of utter desolation yet of profound influence on the landscape, for three major rivers have their source hereabouts: the streams flowing east are tributaries of the River Swale, those to the west drain an area known as Eden Springs, the source of the River Eden, and a short distance to the south are the beginnings of the River Ure.', 'n'), '42D.d013.s003.t011': ('turning point', 'The next felltop reached is Hugh Seat, 2257 feet, the turning point of the walk: high ground continues but then gradually declines into Wensleydale.', 'n'), '42D.d013.s003.t018': ('continues', 'The next felltop reached is Hugh Seat, 2257 feet, the turning point of the walk: high ground continues but then gradually declines into Wensleydale.', 'v'), '42D.d013.s003.t022': ('declines', 'The next felltop reached is Hugh Seat, 2257 feet, the turning point of the walk: high ground continues but then gradually declines into Wensleydale.', 'v'), '42D.d014.s000.t002': ('defence', \"The successful defence of Londonderry and the victory at the Boyne in 1690 became immovable parts of the Protestant tradition; the Treaty of Limerick and the Protestant failure to honour the treaty 's promises of religious toleration became unforgettable parts of the Catholic view of the history of Ireland.\", 'n'), '42D.d014.s000.t028': ('honour', \"The successful defence of Londonderry and the victory at the Boyne in 1690 became immovable parts of the Protestant tradition; the Treaty of Limerick and the Protestant failure to honour the treaty 's promises of religious toleration became unforgettable parts of the Catholic view of the history of Ireland.\", 'v'), '42D.d014.s001.t001': ('North America', 'In North America these struggles were not so clear-cut.', 'n'), '42D.d014.s002.t002': ('Dominion', \"James 's Dominion of New England collapsed almost at once.\", 'n'), '42D.d014.s004.t047': ('New York', 'Whether because people really did not know how to interpret the revolution in England or because they wanted fairly complete independence and correctly suspected that William was going to exercise much the same overall powers as Charles and James had done, there was a revolt in New York that took some months to suppress and the colonists of Massachusetts at the beginning of the 1690s were no more reconciled to English rule than in the past.', 'n'), '42D.d014.s004.t071': ('rule', 'Whether because people really did not know how to interpret the revolution in England or because they wanted fairly complete independence and correctly suspected that William was going to exercise much the same overall powers as Charles and James had done, there was a revolt in New York that took some months to suppress and the colonists of Massachusetts at the beginning of the 1690s were no more reconciled to English rule than in the past.', 'n'), '42D.d015.s000.t028': ('happy', 'Inevitably, writing for the Cornhill gave him a first experience of the restrictions imposed on authors by the readers of quality magazines, but for the time being he was happy to compromise in the interests of his career.', 'v'), '42D.d015.s003.t007': ('Hardy', 'Even after the success of Far From the Madding Crowd, Hardy was reluctant to be regarded solely as a writer of rural stories.', 'n'), '42D.d016.s000.t038': ('track', \"‘ That song had so many lyrics and different types of music in there, that I did n't think it 'd go the distance. But when people like Norman Jay and Omar said they were into the track, it sort of backed up in my own mind that it was a safe tune — they 're not the sort of people who give you compliments just to make you smile. ’\", 'n'), '42D.d016.s001.t007': ('critical', \"And it 's easy to see why critical acclaim was so forthcoming.\", 'v'), '42D.d016.s001.t011': ('forthcoming', \"And it 's easy to see why critical acclaim was so forthcoming.\", 'v'), '42D.d016.s002.t007': ('musical', 'Jamiroquai had ingeniously redefined his obvious past musical influences, recreating a sound and style that emerged as both progressive and modern.', 'v'), '42D.d016.s003.t005': ('jazz', \"‘ It 's not pure jazz and it ai n't pure funk, ’ he explains.\", 'n'), '42D.d016.s003.t011': ('funk', \"‘ It 's not pure jazz and it ai n't pure funk, ’ he explains.\", 'n'), '42D.d016.s004.t011': ('drawing', \"‘ It could be defined more as a jazz-funk fusion, drawing from influences as far apart as Miles Davis and Parliament. By taking elements from the two and learning how to play them live together, it 's what I 'd call a real fusion. ’\", 'v'), '42D.d016.s004.t042': ('call', \"‘ It could be defined more as a jazz-funk fusion, drawing from influences as far apart as Miles Davis and Parliament. By taking elements from the two and learning how to play them live together, it 's what I 'd call a real fusion. ’\", 'v'), '42D.d016.s005.t022': ('musical', 'Now signed to Sony for an eight-album deal, Jamiroquai is adamant that he will not be called upon to compromise his musical philosophies, relishing the fact that the lengthy deal will enable him to take his experimental visions further.', 'v'), '42D.d016.s005.t023': ('philosophies', 'Now signed to Sony for an eight-album deal, Jamiroquai is adamant that he will not be called upon to compromise his musical philosophies, relishing the fact that the lengthy deal will enable him to take his experimental visions further.', 'n'), '42D.d017.s000.t009': ('Christmas tree', 'I feel like the fairy on top of the Christmas tree.', 'n'), '42D.d017.s004.t011': ('dick', 'There are jokes about criss-cross patterns on the end of your dick, not to mention nylon rashes.', 'n'), '42D.d017.s010.t012': ('kinks', 'Men like this never stop talking about ‘ stunt sex ’ and new kinks.', 'n'), '42D.d018.s000.t034': ('net', 'Dundee did deservedly edge in front in the 12th minute when Gary McKeown curled in a cross from the right and defender Gary Paterson was allowed to chest the ball down before hooking it high into the net.', 'n'), '42D.d018.s002.t012': ('block', \"Britain 's costliest player rounded the keeper but Duffy got back to block the former Dundee United man 's acute angled effort.\", 'v'), '42D.d018.s002.t018': ('acute', \"Britain 's costliest player rounded the keeper but Duffy got back to block the former Dundee United man 's acute angled effort.\", 'v'), '42D.d018.s003.t003': ('finishing', \"In fact, better finishing from the Den Park 's outfit would have increased Rangers ' embarrassment but they were let off the hook on a number of occasions, particularly by Dodds.\", 'n'), '42D.d018.s003.t026': ('particularly', \"In fact, better finishing from the Den Park 's outfit would have increased Rangers ' embarrassment but they were let off the hook on a number of occasions, particularly by Dodds.\", 'r'), '42D.d018.s004.t011': ('convert', 'Either side of the interval the tiny striker had chances to convert simple headers but pushed one wide of the post and saw Maxwell claw the other over the bar.', 'v'), '42D.d018.s004.t013': ('headers', 'Either side of the interval the tiny striker had chances to convert simple headers but pushed one wide of the post and saw Maxwell claw the other over the bar.', 'n'), '42D.d018.s004.t020': ('post', 'Either side of the interval the tiny striker had chances to convert simple headers but pushed one wide of the post and saw Maxwell claw the other over the bar.', 'n'), '42D.d018.s006.t017': ('shot', 'Trevor Steven went close with a volley from the edge of the box while Dusan Vrto kicked an Ian Ferguson shot off the line.', 'n'), '42D.d019.s000.t013': ('height', 'With that comparatively primitive system we were able to fly down to a height of 200 feet above the runway.', 'n'), '42D.d019.s000.t019': ('runway', 'With that comparatively primitive system we were able to fly down to a height of 200 feet above the runway.', 'n'), '42D.d019.s001.t011': ('refined', 'It was not so different from the modern, much more refined auto-landing system we take for granted today.', 'v'), '42D.d019.s003.t008': ('airline', \"Turbine engines had not been introduced into regular airline use when I joined the branch; also one 's practical application of aerodynamics had to be radically modified to cope with the characteristics of high-speed flight with swept wings and all the associated developments that went with this revolution in flying.\", 'n'), '42D.d019.s003.t026': ('modified', \"Turbine engines had not been introduced into regular airline use when I joined the branch; also one 's practical application of aerodynamics had to be radically modified to cope with the characteristics of high-speed flight with swept wings and all the associated developments that went with this revolution in flying.\", 'v'), '42D.d019.s004.t000': ('So', 'So the challenge to keep abreast of technological developments in aviation was one I entered into with considerable enthusiasm when I was appointed Deputy Chief Inspector in 1967.', 'r'), '42D.d019.s004.t009': ('aviation', 'So the challenge to keep abreast of technological developments in aviation was one I entered into with considerable enthusiasm when I was appointed Deputy Chief Inspector in 1967.', 'n'), '42D.d020.s001.t019': ('west', 'The first was for Lieutenant Harry Poat to take a jeep patrol to create as much havoc as possible to the west of Tripoli, while the main army attack went in.', 'n'), '42D.d020.s002.t007': ('west', 'The other three aims were much further west and were determined by geography.', 'n'), '42D.d020.s003.t005': ('base', 'Rommel had been forced to base his supply operation well to his rear, using the Tunisian ports of Sfax and Gabes.', 'v'), '42D.d020.s003.t016': ('Tunisian', 'Rommel had been forced to base his supply operation well to his rear, using the Tunisian ports of Sfax and Gabes.', 'v'), '42D.d020.s006.t028': ('expand', 'Between Tripoli and Gabes, there was a fortified belt known as the Mareth line which had been built before the war by the French to hinder Italian ambitions to expand their empire into Tunisia.', 'v'), '42D.d020.s007.t000': ('Montgomery', 'Montgomery wanted a reconnaissance of this stretch of bunkers and anti-tank ditches to see if it was being put into a state of defence and if it could be outflanked to the south.', 'n'), '42D.d020.s007.t008': ('bunkers', 'Montgomery wanted a reconnaissance of this stretch of bunkers and anti-tank ditches to see if it was being put into a state of defence and if it could be outflanked to the south.', 'n'), '42D.d020.s007.t023': ('defence', 'Montgomery wanted a reconnaissance of this stretch of bunkers and anti-tank ditches to see if it was being put into a state of defence and if it could be outflanked to the south.', 'n'), '42D.d020.s007.t032': ('south', 'Montgomery wanted a reconnaissance of this stretch of bunkers and anti-tank ditches to see if it was being put into a state of defence and if it could be outflanked to the south.', 'n'), '42D.d021.s003.t006': ('tons', 'On the first day, five tons of cable were towed forward on sledges by tanks, together with 120 poles, numerous telephones and their exchanges.', 'n'), '42D.d021.s005.t018': ('intervals', 'To overcome this, a new method of relaying information was devised: collecting points were established at intervals some 550 m/600 yds behind the front line.', 'n'), '42D.d021.s006.t005': ('correlated', 'There, specially trained officers correlated all incoming information before signalling a general report to the rear.', 'v'), '42D.d021.s006.t012': ('general', 'There, specially trained officers correlated all incoming information before signalling a general report to the rear.', 'v'), '42D.d021.s007.t001': ('manual', 'Other manual methods of signalling included flags, arc lights operated by gas, and heliographs whose flashing signals could be read by telescope.', 'v'), '42D.d021.s007.t011': ('gas', 'Other manual methods of signalling included flags, arc lights operated by gas, and heliographs whose flashing signals could be read by telescope.', 'n'), '42D.d022.s000.t003': ('rich', 'Fourth, this rich and complex information environment is worthless unless users can easily find their way around it, locating and accessing the information they require.', 'v'), '42D.d022.s000.t006': ('information', 'Fourth, this rich and complex information environment is worthless unless users can easily find their way around it, locating and accessing the information they require.', 'n'), '42D.d022.s000.t024': ('information', 'Fourth, this rich and complex information environment is worthless unless users can easily find their way around it, locating and accessing the information they require.', 'n'), '42D.d022.s001.t010': ('platforms', 'These factors tend to dictate the character of successful multimedia platforms.', 'n'), '42D.d022.s002.t009': ('storage', 'The large memory requirements suggest the use of optical disc storage.', 'n'), '42D.d022.s003.t009': ('performance', 'The demanding processing requirements imply very fast, high performance computers, probably equipped with special chip sets either to compress and decompress the fast-changing, high volume information flows or to digitise sources of information drawn into the multimedia environment which are not initially in digital form.', 'n'), '42D.d022.s003.t016': ('chip', 'The demanding processing requirements imply very fast, high performance computers, probably equipped with special chip sets either to compress and decompress the fast-changing, high volume information flows or to digitise sources of information drawn into the multimedia environment which are not initially in digital form.', 'n'), '42D.d022.s003.t028': ('information', 'The demanding processing requirements imply very fast, high performance computers, probably equipped with special chip sets either to compress and decompress the fast-changing, high volume information flows or to digitise sources of information drawn into the multimedia environment which are not initially in digital form.', 'n'), '42D.d022.s003.t035': ('information', 'The demanding processing requirements imply very fast, high performance computers, probably equipped with special chip sets either to compress and decompress the fast-changing, high volume information flows or to digitise sources of information drawn into the multimedia environment which are not initially in digital form.', 'n'), '42D.d022.s003.t036': ('drawn', 'The demanding processing requirements imply very fast, high performance computers, probably equipped with special chip sets either to compress and decompress the fast-changing, high volume information flows or to digitise sources of information drawn into the multimedia environment which are not initially in digital form.', 'v'), '42D.d022.s003.t046': ('digital', 'The demanding processing requirements imply very fast, high performance computers, probably equipped with special chip sets either to compress and decompress the fast-changing, high volume information flows or to digitise sources of information drawn into the multimedia environment which are not initially in digital form.', 'v'), '42D.d022.s004.t002': ('display', 'Output and display requirements dictate architectures which support high-resolution colour graphics, can display both RGB (‘ Red-Green-Blue ’, the colour screen standard in which the three basic colours remain individually controllable) and composite video information, and provide an audio capability able to handle anything from a feeble bleep to high fidelity stereo.', 'n'), '42D.d022.s004.t005': ('architectures', 'Output and display requirements dictate architectures which support high-resolution colour graphics, can display both RGB (‘ Red-Green-Blue ’, the colour screen standard in which the three basic colours remain individually controllable) and composite video information, and provide an audio capability able to handle anything from a feeble bleep to high fidelity stereo.', 'n'), '42D.d022.s004.t030': ('colours', 'Output and display requirements dictate architectures which support high-resolution colour graphics, can display both RGB (‘ Red-Green-Blue ’, the colour screen standard in which the three basic colours remain individually controllable) and composite video information, and provide an audio capability able to handle anything from a feeble bleep to high fidelity stereo.', 'n'), '42D.d022.s004.t037': ('video', 'Output and display requirements dictate architectures which support high-resolution colour graphics, can display both RGB (‘ Red-Green-Blue ’, the colour screen standard in which the three basic colours remain individually controllable) and composite video information, and provide an audio capability able to handle anything from a feeble bleep to high fidelity stereo.', 'n'), '42D.d022.s004.t038': ('information', 'Output and display requirements dictate architectures which support high-resolution colour graphics, can display both RGB (‘ Red-Green-Blue ’, the colour screen standard in which the three basic colours remain individually controllable) and composite video information, and provide an audio capability able to handle anything from a feeble bleep to high fidelity stereo.', 'n'), '42D.d022.s004.t051': ('feeble', 'Output and display requirements dictate architectures which support high-resolution colour graphics, can display both RGB (‘ Red-Green-Blue ’, the colour screen standard in which the three basic colours remain individually controllable) and composite video information, and provide an audio capability able to handle anything from a feeble bleep to high fidelity stereo.', 'v'), '42D.d022.s006.t009': ('interface', 'In other words, a successful multimedia system must offer an interface with its user, so friendly that it is effectively transparent.', 'n'), '42D.d022.s006.t015': ('friendly', 'In other words, a successful multimedia system must offer an interface with its user, so friendly that it is effectively transparent.', 'v'), '42D.d022.s006.t020': ('transparent', 'In other words, a successful multimedia system must offer an interface with its user, so friendly that it is effectively transparent.', 'v'), '42D.d023.s000.t009': ('kin', 'Third, most families maintain close relationships with their kin in Pakistan, consulting the head of the family about important decisions, sending money back for the purchase of land and visiting the home country as often as possible.', 'n'), '42D.d023.s001.t002': ('structure', 'The patriarchal structure of most families reinforces the integration of the whole unit.', 'n'), '42D.d023.s003.t010': ('links', 'In sum, Pakistani immigrants in Rochdale maintain very close links with members of their family, distant or near, through exchanges of goods and services, loans of money in times of need, active social contact and advice (or instruction) on important decisions.', 'n'), '42D.d023.s003.t024': ('goods', 'In sum, Pakistani immigrants in Rochdale maintain very close links with members of their family, distant or near, through exchanges of goods and services, loans of money in times of need, active social contact and advice (or instruction) on important decisions.', 'n'), '42D.d023.s004.t053': ('relationship', 'The intensity of these family relationships, and the importance of maintaining family and wider connections in Pakistan, are shown in the continuance in Britain of the Pakistani institution of Biraderi which governs obligations to relatives and non-relatives outside the immediate family: ‘ Biraderi includes all the men who can trace their relationship to a common ancestor, no matter how remote. ’', 'n'), '42D.d023.s004.t061': ('remote', 'The intensity of these family relationships, and the importance of maintaining family and wider connections in Pakistan, are shown in the continuance in Britain of the Pakistani institution of Biraderi which governs obligations to relatives and non-relatives outside the immediate family: ‘ Biraderi includes all the men who can trace their relationship to a common ancestor, no matter how remote. ’', 'v'), '42D.d024.s000.t001': ('gambit', 'This gambit, which Short has never played before, is almost never seen at the top level.', 'n'), '42D.d024.s001.t006': ('pieces', 'Since the player of the white pieces can achieve a small but comfortable advantage against this manoeuvre with very little difficulty, it was a bad choice against Karpov, a player who is past master at exploiting small advantages.', 'n'), '42D.d024.s001.t012': ('comfortable', 'Since the player of the white pieces can achieve a small but comfortable advantage against this manoeuvre with very little difficulty, it was a bad choice against Karpov, a player who is past master at exploiting small advantages.', 'v'), '42D.d024.s001.t016': ('manoeuvre', 'Since the player of the white pieces can achieve a small but comfortable advantage against this manoeuvre with very little difficulty, it was a bad choice against Karpov, a player who is past master at exploiting small advantages.', 'n'), '42D.d024.s002.t007': ('white', \"Karpov played a relatively recent refinement of white 's play on the seventh move.\", 'n'), '42D.d024.s002.t009': ('play', \"Karpov played a relatively recent refinement of white 's play on the seventh move.\", 'n'), '42D.d024.s002.t013': ('move', \"Karpov played a relatively recent refinement of white 's play on the seventh move.\", 'n'), '42D.d024.s004.t001': ('move', 'On move 11 Short had to allow a weakening of his pawn structure and then he chose to sacrifice a pawn instead of defending an endgame and struggling for a draw.', 'n'), '42D.d024.s004.t008': ('weakening', 'On move 11 Short had to allow a weakening of his pawn structure and then he chose to sacrifice a pawn instead of defending an endgame and struggling for a draw.', 'n'), '42D.d024.s004.t011': ('pawn', 'On move 11 Short had to allow a weakening of his pawn structure and then he chose to sacrifice a pawn instead of defending an endgame and struggling for a draw.', 'n'), '42D.d024.s004.t019': ('pawn', 'On move 11 Short had to allow a weakening of his pawn structure and then he chose to sacrifice a pawn instead of defending an endgame and struggling for a draw.', 'n'), '42D.d024.s004.t024': ('endgame', 'On move 11 Short had to allow a weakening of his pawn structure and then he chose to sacrifice a pawn instead of defending an endgame and struggling for a draw.', 'n'), '42D.d024.s004.t029': ('draw', 'On move 11 Short had to allow a weakening of his pawn structure and then he chose to sacrifice a pawn instead of defending an endgame and struggling for a draw.', 'n'), '42D.d024.s005.t012': ('pawn', 'This soon looked like an unobjective decision, as Karpov secured his pawn advantage.', 'n'), '42D.d024.s006.t005': ('went for', \"As time trouble approached, Short went for a wild kingside attack, but Karpov played well and it was Short 's king which proved the weaker.\", 'v'), '42D.d024.s006.t007': ('wild', \"As time trouble approached, Short went for a wild kingside attack, but Karpov played well and it was Short 's king which proved the weaker.\", 'v'), '42D.d024.s006.t020': ('king', \"As time trouble approached, Short went for a wild kingside attack, but Karpov played well and it was Short 's king which proved the weaker.\", 'n'), '42D.d024.s006.t024': ('weaker', \"As time trouble approached, Short went for a wild kingside attack, but Karpov played well and it was Short 's king which proved the weaker.\", 'v'), '42D.d024.s007.t016': ('pieces', \"In yesterday 's second game Short had soon obtained a slight advantage playing with the white pieces, but as the players again ran short of time Karpov obtained strong counterplay on the queenside.\", 'n'), '42D.d025.s001.t017': ('apart', \"They occur in areas where the Earth's crust is subjected to tensional forces, trying to pull it apart.\", 'r'), '42D.d025.s002.t010': ('gaping', 'Where this happens, the crust may actually break, gaping open in long, narrow, slot-like vertical cracks.', 'v'), '42D.d025.s003.t011': ('forming', 'At the surface these cracks may remain open and empty, forming deep clefts, but deeper down, magma forces its way up into the crack, widening it considerably by hydraulically wedging the walls apart.', 'v'), '42D.d025.s003.t013': ('clefts', 'At the surface these cracks may remain open and empty, forming deep clefts, but deeper down, magma forces its way up into the crack, widening it considerably by hydraulically wedging the walls apart.', 'n'), '42D.d025.s003.t033': ('wedging', 'At the surface these cracks may remain open and empty, forming deep clefts, but deeper down, magma forces its way up into the crack, widening it considerably by hydraulically wedging the walls apart.', 'v'), '42D.d025.s003.t035': ('walls', 'At the surface these cracks may remain open and empty, forming deep clefts, but deeper down, magma forces its way up into the crack, widening it considerably by hydraulically wedging the walls apart.', 'n'), '42D.d025.s005.t023': ('form', 'If the magma pressure is great enough, it will force its way right up the dyke to the surface, spilling out to form lava flows.', 'v'), '42D.d025.s007.t022': ('intrusion', 'If you reflect for a moment on which areas are likely to have rocks under tension, and where cracking and dyke intrusion are likely, you will realize that the mid-ocean ridges are hot favourites for this kind of activity.', 'n'), '42D.d025.s007.t039': ('activity', 'If you reflect for a moment on which areas are likely to have rocks under tension, and where cracking and dyke intrusion are likely, you will realize that the mid-ocean ridges are hot favourites for this kind of activity.', 'n'), '42D.d026.s001.t038': ('adjunct', 'However, because conjunctions and disjuncts are not part of the propositional content of the message, they are not considered thematic in the same way as the main clause elements subject, predicator, object, complement and adjunct.', 'n'), '42D.d026.s003.t008': ('see', 'For a fuller discussion of this subject, see Halliday (1985: Chapter 3, ‘ Clause as message ’).', 'v'), '42D.d026.s004.t020': ('predicate', 'Conjunctions and disjuncts aside, there tends to be a very high correlation between theme/rheme and subject/predicate in the Hallidayan model (cf. the Prague position, section 5.2).', 'n'), '42D.d026.s005.t029': ('more or less', 'The correlation does not hold in the case of marked themes as we shall see shortly, but, generally speaking, the distinction between theme and rheme is more or less identical to the traditional grammatical distinction between subject and predicate.', 'r'), '42D.d026.s005.t039': ('predicate', 'The correlation does not hold in the case of marked themes as we shall see shortly, but, generally speaking, the distinction between theme and rheme is more or less identical to the traditional grammatical distinction between subject and predicate.', 'n'), '42D.d026.s006.t024': ('predicate', 'In fact, Plato, who as far back as the fourth century BC had divided the sentence into what we now know as subject and predicate, used the terms ónoma and rhema (which originally meant ‘ name ’ and ‘ saying ’ respectively).', 'n'), '42D.d027.s000.t021': ('offended', 'The special interest groups were influential and research was encouraged into the causes of crime and the treatment of those who had offended.', 'v'), '42D.d027.s002.t014': ('offences', 'Punitive trends could be identified in the increase of maximum sentences of imprisonment for offences of violence against the person.', 'n'), '42D.d027.s004.t013': ('tide', 'In sentencing, indeterminacy fell out of fashion sweeping away borstal training in its tide.', 'n'), '42D.d027.s005.t005': ('erosion', 'Detention centres survived, despite the erosion of evidence to support the ideals of retribution and deterrence which they epitomized.', 'n'), '42D.d027.s006.t003': ('values', 'The more liberal values of the 1960s were sustained in an unobtrusive, yet pervasive, climate of common attitudes shared by Home Office officials, special interest groups, and a respectable body of informed opinion.', 'n'), '42D.d027.s007.t005': ('probation', 'In this environment, the probation service was shaped into a recognizably national system.', 'n'), '42D.d027.s008.t006': ('criminal', 'Financial compensation became available for the first time for criminal injuries; the community service order raised hopes as an alternative to custody; and an elaborate system of parole, later greatly expanded, was instituted.', 'v'), '42D.d027.s008.t007': ('injuries', 'Financial compensation became available for the first time for criminal injuries; the community service order raised hopes as an alternative to custody; and an elaborate system of parole, later greatly expanded, was instituted.', 'n'), '42D.d027.s008.t025': ('parole', 'Financial compensation became available for the first time for criminal injuries; the community service order raised hopes as an alternative to custody; and an elaborate system of parole, later greatly expanded, was instituted.', 'n'), '42D.d027.s008.t029': ('expanded', 'Financial compensation became available for the first time for criminal injuries; the community service order raised hopes as an alternative to custody; and an elaborate system of parole, later greatly expanded, was instituted.', 'v'), '42D.d028.s003.t002': ('locations', 'Dozens of locations in and around London were also used.', 'n'), '42D.d028.s005.t010': ('takes', 'To get all the shots needed for these quick ‘ takes ’, Lester had two cameras filming the action and a third, hidden, focusing on the faces of frowning passers-by.', 'n'), '42D.d028.s007.t006': ('caught', 'The results were stunningly successful and caught the flavour of Sixties London and the generation gap.', 'v'), '42D.d029.s002.t008': ('snap', 'This time the thunder burst with a pistol-shot snap and with an equal suddenness, as if at last those swollen vessels had been punctured, the rain began to fall.', 'n'), '42D.d029.s003.t004': ('splashed', 'The first heavy drops splashed in coin shapes on the pavement below and in their tubs the pink flowers on the forecourt dipped and swayed.', 'v'), '42D.d029.s003.t022': ('dipped', 'The first heavy drops splashed in coin shapes on the pavement below and in their tubs the pink flowers on the forecourt dipped and swayed.', 'v'), '42D.d029.s005.t003': ('urged on', 'But then, urged on as it were by a series of multiple lightning flashes, it hesitated no more and, instead of increasing gradually from the first tentative shower, the water gushed forth in a vast fountain.', 'v'), '42D.d029.s005.t033': ('forth', 'But then, urged on as it were by a series of multiple lightning flashes, it hesitated no more and, instead of increasing gradually from the first tentative shower, the water gushed forth in a vast fountain.', 'r'), '42D.d029.s006.t001': ('dashed', 'It dashed against the windows, washing off dust in a great cleansing stream, and Wexford moved away from the glass.', 'v'), '42D.d029.s006.t004': ('windows', 'It dashed against the windows, washing off dust in a great cleansing stream, and Wexford moved away from the glass.', 'n'), '42D.d029.s007.t014': ('window', 'The sudden flood was more like a wave than rain and it blinded the window as surely as darkness.', 'n'), '42D.d030.s001.t003': ('head', 'Abaft the after head is a large locker accessed either through a door in the head or from the cockpit.', 'n'), '42D.d030.s001.t008': ('accessed', 'Abaft the after head is a large locker accessed either through a door in the head or from the cockpit.', 'v'), '42D.d030.s001.t015': ('head', 'Abaft the after head is a large locker accessed either through a door in the head or from the cockpit.', 'n'), '42D.d030.s002.t007': ('performance', 'On deck the J/44 is very much a performance yacht, so the deck is laid out mainly for racing although careful thought has been given to cruising requirements.', 'n'), '42D.d030.s002.t010': ('so', 'On deck the J/44 is very much a performance yacht, so the deck is laid out mainly for racing although careful thought has been given to cruising requirements.', 'r'), '42D.d030.s003.t016': ('roller', 'In an effort to keep weight out of the eyes of the yacht, the stemhead roller may be unshipped when not in use and stowed away further aft.', 'n'), '42D.d030.s004.t000': ('Stowage', 'Stowage for a Danforth-type anchor is provided in the starboard side deck close to the shroud anchorage.', 'n'), '42D.d030.s004.t015': ('shroud', 'Stowage for a Danforth-type anchor is provided in the starboard side deck close to the shroud anchorage.', 'n'), '42D.d030.s005.t011': ('screw', 'The end of the anchor cable may be retrieved beneath a screw plate in the foredeck and attached to the anchor when the ground tackle is needed.', 'n'), '42D.d030.s006.t011': ('single', 'The after legs of the bow pulpit were secured by a single bolt each — we hope that this will be remedied.', 'v'), '42D.d030.s006.t012': ('bolt', 'The after legs of the bow pulpit were secured by a single bolt each — we hope that this will be remedied.', 'n'), '42D.d030.s007.t008': ('substantial', 'Wide side decks and a long run of substantial grabrail on each side of the coachroof allow a secure passage to and from the foredeck.', 'v'), '42D.d030.s008.t005': ('gate', 'There is a handy boarding gate in the lifelines on each side at the point of maximum beam.', 'n'), '42D.d030.s008.t017': ('beam', 'There is a handy boarding gate in the lifelines on each side at the point of maximum beam.', 'n'), '42D.d031.s001.t003': ('emergent', 'For centuries the emergent states had to limit their ambitions to silver pennies, successors of the denarius.', 'v'), '42D.d031.s002.t006': ('struck', 'The first English gold coin was struck only in 1255 and it was not until 1344 that the country was able to begin to sustain what proved to be no more than half a millennium of minting a gold denomination in its regular coinage.', 'v'), '42D.d031.s002.t007': ('only', 'The first English gold coin was struck only in 1255 and it was not until 1344 that the country was able to begin to sustain what proved to be no more than half a millennium of minting a gold denomination in its regular coinage.', 'r'), '42D.d031.s002.t038': ('denomination', 'The first English gold coin was struck only in 1255 and it was not until 1344 that the country was able to begin to sustain what proved to be no more than half a millennium of minting a gold denomination in its regular coinage.', 'n'), '42D.d031.s003.t015': ('designating', 'When the United States regulated its coinage under the legislation of 1792 it displayed independence by designating the silver dollar as the basic unit.', 'v'), '42D.d031.s005.t001': ('eagles', 'Gold eagles were struck to save handling so many dollar pieces, and bronze was needed to provide small change.', 'n'), '42D.d031.s005.t003': ('struck', 'Gold eagles were struck to save handling so many dollar pieces, and bronze was needed to provide small change.', 'v'), '42D.d032.s000.t007': ('distinct', \"But perhaps this shift is not so distinct: for the interaction of power and resistance, which mimes the mutual contamination and transmutation of Freud 's death-drive and pleasure principle, also operates as a simulacrum of the ungraspable, vacillating manoeuvres of Foucault 's formulations of history.\", 'v'), '42D.d032.s000.t020': ('mutual', \"But perhaps this shift is not so distinct: for the interaction of power and resistance, which mimes the mutual contamination and transmutation of Freud 's death-drive and pleasure principle, also operates as a simulacrum of the ungraspable, vacillating manoeuvres of Foucault 's formulations of history.\", 'v'), '42D.d032.s001.t010': ('considered', 'Whereas Foucault was inclined to remark that in retrospect he considered that all his work had been about power, it seems almost equally possible that his analyses of power constitute a continuing meditation on the phantasm.', 'v'), '42D.d032.s001.t014': ('work', 'Whereas Foucault was inclined to remark that in retrospect he considered that all his work had been about power, it seems almost equally possible that his analyses of power constitute a continuing meditation on the phantasm.', 'n'), '42D.d032.s002.t017': ('agency', \"Although in no sense a general theory, Foucault 's notion of power reformulates the problem of agency and determinism which had beset Sartre and many others by focusing on the possibility of making intelligible the strategies and techniques of local operations of power without relying on the dialectic of ideology and the consciousness of subjects, or on their corollary, the assumption that power operates globally and homogeneously.\", 'n'), '42D.d032.s003.t018': ('agency', 'The absence of the category of consciousness inevitably plays down the role of individual subjects and thus of individual agency and resistance as a result of specific acts of will.', 'n'), '42D.d032.s004.t021': ('agency', \"If this causes difficulties for some, Foucault 's scepticism with regard to the tendency to inflate the effect of individual agency can only be compared to the position of many Marxisms in which resistance and revolution are hardly the privilege of the individual as such, but rather of collective class action.\", 'n'), '42D.d033.s000.t012': ('dust', 'Soon the density becomes great enough for the spheres of gas and dust to collapse and start individual nuclear reactions.', 'n'), '42D.d033.s006.t024': ('out', 'The imploding discs of cosmic matter are rotating, and as the pressure increases the rotation speeds up like a flywheel, ultimately flinging matter out into space.', 'r'), '42D.d033.s008.t012': ('embryonic', 'Material from the rest of the cloud globule continually falls into the embryonic sun, building up further mass, pressure and temperature, soon reaching thousands of degrees centigrade and beginning to glow like the T Tauri stars (glowing clouds of dense cosmic dust), which astronomers now think are the typical intermediate link between the dark globules and fully formed stars.', 'v'), '42D.d033.s008.t013': ('sun', 'Material from the rest of the cloud globule continually falls into the embryonic sun, building up further mass, pressure and temperature, soon reaching thousands of degrees centigrade and beginning to glow like the T Tauri stars (glowing clouds of dense cosmic dust), which astronomers now think are the typical intermediate link between the dark globules and fully formed stars.', 'n'), '42D.d034.s000.t013': ('poll', 'He was fighting in difficult territory and was to come bottom of the poll, beaten by Labour as well as by the Liberals who won the seat.', 'n'), '42D.d034.s000.t017': ('Labour', 'He was fighting in difficult territory and was to come bottom of the poll, beaten by Labour as well as by the Liberals who won the seat.', 'n'), '42D.d034.s000.t026': ('seat', 'He was fighting in difficult territory and was to come bottom of the poll, beaten by Labour as well as by the Liberals who won the seat.', 'n'), '42D.d034.s002.t014': ('columns', 'Indeed, it had been a violent election campaign by postwar standards and the columns of papers like The Times were filled day after day by reports of ‘ Labour rowdyism ’.', 'n'), '42D.d034.s002.t026': ('Labour', 'Indeed, it had been a violent election campaign by postwar standards and the columns of papers like The Times were filled day after day by reports of ‘ Labour rowdyism ’.', 'n'), '42D.d034.s006.t011': ('violent', 'Warning was given that the ‘ Reds ’ were planning a violent demonstration to disrupt the proceedings.', 'v'), '42D.d034.s009.t002': ('disruptions', 'Before long the disruptions began and the meeting became a scene of struggle and abuse.', 'n'), '42D.d035.s000.t022': ('revelation', 'To treat the Christian story in this way was to produce the phenomenon of Gnosticism in which a claim to disclose secret revelation is combined with a mixing of myths and rites drawn from a variety of religious traditions.', 'n'), '42D.d035.s000.t032': ('drawn', 'To treat the Christian story in this way was to produce the phenomenon of Gnosticism in which a claim to disclose secret revelation is combined with a mixing of myths and rites drawn from a variety of religious traditions.', 'v'), '42D.d035.s002.t000': ('Occultism', \"Occultism and oriental mysticism became fused with astrology, magic, cabbalistic elements from Jewish tradition, a pessimistic reading of Plato 's doctrine that man 's true home does not lie in this bodily realm, above all the catalyst of the Christian understanding of redemption in Christ.\", 'n'), '42D.d035.s002.t027': ('true', \"Occultism and oriental mysticism became fused with astrology, magic, cabbalistic elements from Jewish tradition, a pessimistic reading of Plato 's doctrine that man 's true home does not lie in this bodily realm, above all the catalyst of the Christian understanding of redemption in Christ.\", 'v'), '42D.d035.s002.t028': ('home', \"Occultism and oriental mysticism became fused with astrology, magic, cabbalistic elements from Jewish tradition, a pessimistic reading of Plato 's doctrine that man 's true home does not lie in this bodily realm, above all the catalyst of the Christian understanding of redemption in Christ.\", 'n'), '42D.d035.s002.t034': ('bodily', \"Occultism and oriental mysticism became fused with astrology, magic, cabbalistic elements from Jewish tradition, a pessimistic reading of Plato 's doctrine that man 's true home does not lie in this bodily realm, above all the catalyst of the Christian understanding of redemption in Christ.\", 'v'), '42D.d035.s002.t039': ('catalyst', \"Occultism and oriental mysticism became fused with astrology, magic, cabbalistic elements from Jewish tradition, a pessimistic reading of Plato 's doctrine that man 's true home does not lie in this bodily realm, above all the catalyst of the Christian understanding of redemption in Christ.\", 'n'), '42D.d035.s003.t037': ('fragments', 'A dualism of spirit and matter, mind and body, was joined with a powerful determinism or predestinarianism: the Gnostics (or ‘ people in the know ’) are the elect, their souls fragments of the divine, needing liberation from matter and the power of the planets.', 'n'), '42D.d035.s004.t004': ('humanity', 'The huge majority of humanity are earthy clods for whom no hope may be entertained.', 'n'), '42D.d035.s004.t014': ('entertained', 'The huge majority of humanity are earthy clods for whom no hope may be entertained.', 'v'), '42D.d035.s005.t023': ('Apostles', 'Most of the Gnostic sects claimed to be Christian; that is, to represent the secret tradition which Jesus had taught the Apostles in private.', 'n'), '42D.d035.s006.t018': ('Thomas', 'They collected sayings of Jesus shaped to fit their own interpretation (as in the Coptic Gospel of Thomas), and offered their adherents an alternative or rival form of Christianity.', 'n'), '42D.d036.s000.t018': ('courts', 'It may be, therefore, that the dreamlike quality of growing up in one of the most cultured courts in Europe had its own dangers for any who experienced it.', 'n'), '42D.d036.s001.t004': ('upbringing', 'In other words, a French upbringing for the future queen of Scots was not in principle a matter for concern; but the particular nature of French royal upbringing in the mid sixteenth century may have been.', 'n'), '42D.d036.s001.t026': ('upbringing', 'In other words, a French upbringing for the future queen of Scots was not in principle a matter for concern; but the particular nature of French royal upbringing in the mid sixteenth century may have been.', 'n'), '42D.d036.s002.t012': ('sat', \"After all, none of Henri II 's three sons, all of whom sat on the French throne, and all of whom were products of the same education as Mary, was in any way an impressive or successful ruler.\", 'v'), '42D.d036.s002.t016': ('throne', \"After all, none of Henri II 's three sons, all of whom sat on the French throne, and all of whom were products of the same education as Mary, was in any way an impressive or successful ruler.\", 'n'), '42D.d036.s002.t023': ('products', \"After all, none of Henri II 's three sons, all of whom sat on the French throne, and all of whom were products of the same education as Mary, was in any way an impressive or successful ruler.\", 'n'), '42D.d036.s003.t007': ('dominating', 'Admittedly, dealing with a woman as dominating as Catherine de Medici and a family as powerful as the Guises, which all three had to do, would have put strains on personalities far stronger than Francis II, Charles IX and Henri III; but the fact remains that while, unlike Mary, they did not show indifference to their kingdom, they were exactly like her in failing to assert their control of it.', 'v'), '42D.d037.s001.t027': ('ladder', 'When she was dressing to go out Sally was invariably unable to find the belt she wanted, one shoe had gone missing or one stocking developed a ladder.', 'n'), '42D.d037.s004.t010': ('draped', 'Mostly they were very smart women in suits and soft draped dresses.', 'v'), '42D.d037.s005.t002': ('agonised', 'Sally had agonised over what to wear — she was so afraid of letting Paula down — but eventually she had settled on a neat shirt - waister blouse and pencil skirt and Paula had loaned her a poplin duster coat in duck-egg blue with a thick soft grey Lucca Lamb collar.', 'v'), '42D.d037.s005.t039': ('duster', 'Sally had agonised over what to wear — she was so afraid of letting Paula down — but eventually she had settled on a neat shirt - waister blouse and pencil skirt and Paula had loaned her a poplin duster coat in duck-egg blue with a thick soft grey Lucca Lamb collar.', 'n'), '42D.d037.s006.t007': ('fur', 'Sally felt good in it — the fur was gorgeously soft when she buried her chin in it and she thought that at least she could hold her own in the midst of all this elegance.', 'n'), '42D.d037.s006.t013': ('buried', 'Sally felt good in it — the fur was gorgeously soft when she buried her chin in it and she thought that at least she could hold her own in the midst of all this elegance.', 'v'), '42D.d037.s007.t002': ('music', 'The background music stopped and was replaced by an expectant hum, then that too ceased as the curtains parted and a man in a dinner jacket and black bow tie stepped out onto the catwalk.', 'n'), '42D.d037.s007.t003': ('stopped', 'The background music stopped and was replaced by an expectant hum, then that too ceased as the curtains parted and a man in a dinner jacket and black bow tie stepped out onto the catwalk.', 'v'), '42D.d037.s007.t010': ('hum', 'The background music stopped and was replaced by an expectant hum, then that too ceased as the curtains parted and a man in a dinner jacket and black bow tie stepped out onto the catwalk.', 'n'), '42D.d038.s002.t011': ('waves', \"The neonatal infant 's EEG during quiet sleep has few slow waves, and no sleep spindles.\", 'n'), '42D.d038.s003.t001': ('waves', 'Slow waves appear in bursts, separated by periods of low-voltage activity of about ten seconds.', 'n'), '42D.d038.s003.t004': ('bursts', 'Slow waves appear in bursts, separated by periods of low-voltage activity of about ten seconds.', 'n'), '42D.d038.s004.t008': ('waves', 'In the first month after full term these slow waves bursts increase in length until the low-voltage periods of quiet sleep are entirely displaced.', 'n'), '42D.d038.s004.t009': ('bursts', 'In the first month after full term these slow waves bursts increase in length until the low-voltage periods of quiet sleep are entirely displaced.', 'n'), '42D.d038.s004.t022': ('displaced', 'In the first month after full term these slow waves bursts increase in length until the low-voltage periods of quiet sleep are entirely displaced.', 'v'), '42D.d038.s006.t029': ('normal', 'While there has been some disagreement over the incidence of EEG spindling in neonates, the consensus of reports indicates that the development of spindles in the EEG of normal sleeping infants occurs between the end of the second month and end of the fourth, and the appearance of persistent spindling earlier or later than this time window tends to be associated with other clinical abnormalities.', 'v'), '42D.d038.s006.t058': ('window', 'While there has been some disagreement over the incidence of EEG spindling in neonates, the consensus of reports indicates that the development of spindles in the EEG of normal sleeping infants occurs between the end of the second month and end of the fourth, and the appearance of persistent spindling earlier or later than this time window tends to be associated with other clinical abnormalities.', 'n'), '42D.d039.s000.t029': ('weight', 'An important difference between conventional statistics and statistics of grain size distributions is that in the former frequency is expressed as numbers whereas in the latter it is as weight percentage.', 'n'), '42D.d039.s001.t022': ('entered', 'Two principal forms of analysis are normally used, graphical methods, in which values derived directly from plotted cumulative curves are entered into established formulae, and moment methods in which the characteristics of every grain in the sample analysed from the sedimentary deposit are used in the computation.', 'v'), '42D.d039.s001.t028': ('moment', 'Two principal forms of analysis are normally used, graphical methods, in which values derived directly from plotted cumulative curves are entered into established formulae, and moment methods in which the characteristics of every grain in the sample analysed from the sedimentary deposit are used in the computation.', 'n'), '42D.d039.s002.t008': ('define', 'In all cases the numbers obtained serve to define the position of the distribution plot, its slope, and the nature of any irregularities.', 'v'), '42D.d039.s002.t014': ('plot', 'In all cases the numbers obtained serve to define the position of the distribution plot, its slope, and the nature of any irregularities.', 'n'), '42D.d039.s003.t006': ('characterization', 'The values of these parameters permit characterization of the curves, and enable numerical comparisons to be made between samples.', 'n'), '42D.d040.s000.t031': ('tenderness', 'Still half dazed by shock, lashed by rage and a deeper pain she told herself was grief for Edmund, Isabel forgot the fleeting moments when FitzAlan had shown her tenderness despite his suspicions, forgot that he had asked for the truth.', 'n'), '42D.d040.s001.t004': ('accusations', 'She remembered only his accusations and her helplessness against them.', 'n'), '42D.d040.s002.t004': ('honour', 'He had scorned her honour, but she had more than all the rest, Isabel thought bitterly.', 'n'), '42D.d040.s004.t021': ('false', 'She had been right not to trust him, for he seduced with soft words, with heat and passion and false promises of safety.', 'v'), '42D.d040.s005.t003': ('honour', 'There was no honour in this world of fighting and hatred and betrayal, a world that had taken everything: her family, her home, her freedom.', 'n'), '42D.d040.s006.t002': ('flared', 'Her anger flared higher, searing, blazing, white-hot.', 'v'), '42D.d040.s008.t018': ('sit up', \"FitzAlan and de Villiers were glaring at each other across her, but as she made a move to sit up Isabel saw the scowl fade from Simon 's face and he reached down a hand to steady her.\", 'v'), '42D.d041.s000.t005': ('consists', 'The Cross is silver and consists of a cross flory terminated in the horizontal and base bars with flaming bombs and in the upper bar with a Tudor rose.', 'v'), '42D.d041.s001.t012': ('roundel', 'This is surmounted by another cross of aeroplane propellers, with a roundel within a wreath of laurels and the letters ‘ RAF ’ on a rose-winged ensign by an Imperial Crown.', 'n'), '42D.d041.s001.t027': ('ensign', 'This is surmounted by another cross of aeroplane propellers, with a roundel within a wreath of laurels and the letters ‘ RAF ’ on a rose-winged ensign by an Imperial Crown.', 'n'), '42D.d041.s002.t002': ('reverse', 'On the reverse is the Royal Cypher above the date 1918.', 'n'), '42D.d041.s002.t008': ('date', 'On the reverse is the Royal Cypher above the date 1918.', 'n'), '42D.d041.s003.t012': ('sprigs', 'The Cross is suspended from a straight silver bar, ornamented with sprigs of laurel, and connected by a silver link.', 'n'), '42D.d041.s004.t001': ('ribbon', 'The ribbon is 1 ¼ inch wide and was originally of violet and white alternate horizontal stripes, although as with the AFC this was changed to a diagonal format in July 1919.', 'n'), '42D.d041.s005.t008': ('carry', 'Likewise, awards made during and since World War Two carry the date of the award on the reverse lower limb.', 'v'), '42D.d041.s005.t010': ('date', 'Likewise, awards made during and since World War Two carry the date of the award on the reverse lower limb.', 'n'), '42D.d041.s007.t024': ('ribbon', 'Bars are awarded in the usual way and, as is common to most awards, are depicted by a rosette worn on the ribbon if the medal is not worn.', 'n')}\n",
      "['living%5:00:00:extant:00']\n"
     ]
    }
   ],
   "source": [
    "print(len(d42_data))\n",
    "print(d42_data)\n",
    "mykey = d42_gold['42D.d000.s000.t004']\n",
    "print(mykey)"
   ]
  },
  {
   "cell_type": "code",
   "execution_count": 33,
   "metadata": {
    "id": "WGRTNeKWTOcj"
   },
   "outputs": [],
   "source": [
    "def get_lemmas(lemma, pos):\n",
    "    lemmatizer = WordNetLemmatizer()\n",
    "    words = lemma.split()\n",
    "    lemmas = [lemmatizer.lemmatize(word, pos=pos) for word in words]\n",
    "    return \" \".join(lemmas)"
   ]
  },
  {
   "cell_type": "code",
   "execution_count": 42,
   "metadata": {},
   "outputs": [
    {
     "name": "stdout",
     "output_type": "stream",
     "text": [
      "noun.quantity\n",
      "adj.pert\n",
      "verb.social\n",
      "noun.food\n"
     ]
    }
   ],
   "source": [
    "super_sense_dict = {\n",
    "    \"1\": \"noun\",\n",
    "    \"2\": \"verb\",\n",
    "    \"3\": \"adjective\",\n",
    "    \"4\": \"adverb\",\n",
    "    \"00\": \"adj.all\",\n",
    "    \"01\": \"adj.pert\",\n",
    "    \"02\": \"adv.all\",\n",
    "    \"03\": \"noun.Tops\",\n",
    "    \"04\": \"noun.act\",\n",
    "    \"05\": \"noun.animal\",\n",
    "    \"06\": \"noun.artifact\",\n",
    "    \"07\": \"noun.attribute\",\n",
    "    \"08\": \"noun.body\",\n",
    "    \"09\": \"noun.cognition\",\n",
    "    \"10\": \"noun.communication\",\n",
    "    \"11\": \"noun.event\",\n",
    "    \"12\": \"noun.feeling\",\n",
    "    \"13\": \"noun.food\",\n",
    "    \"14\": \"noun.group\",\n",
    "    \"15\": \"noun.location\",\n",
    "    \"16\": \"noun.motive\",\n",
    "    \"17\": \"noun.object\",\n",
    "    \"18\": \"noun.person\",\n",
    "    \"19\": \"noun.phenomenon\",\n",
    "    \"20\": \"noun.plant\",\n",
    "    \"21\": \"noun.possession\",\n",
    "    \"22\": \"noun.process\",\n",
    "    \"23\": \"noun.quantity\",\n",
    "    \"24\": \"noun.relation\",\n",
    "    \"25\": \"noun.shape\",\n",
    "    \"26\": \"noun.state\",\n",
    "    \"27\": \"noun.substance\",\n",
    "    \"28\": \"noun.time\",\n",
    "    \"29\": \"verb.body\",\n",
    "    \"30\": \"verb.change\",\n",
    "    \"31\": \"verb.cognition\",\n",
    "    \"32\": \"verb.communication\",\n",
    "    \"33\": \"verb.competition\",\n",
    "    \"34\": \"verb.consumption\",\n",
    "    \"35\": \"verb.contact\",\n",
    "    \"36\": \"verb.creation\",\n",
    "    \"37\": \"verb.emotion\",\n",
    "    \"38\": \"verb.motion\",\n",
    "    \"39\": \"verb.perception\",\n",
    "    \"40\": \"verb.possession\",\n",
    "    \"41\": \"verb.social\",\n",
    "    \"42\": \"verb.stative\",\n",
    "    \"43\": \"verb.weather\",\n",
    "    \"44\": \"adj.ppl\",\n",
    "}\n",
    "print(super_sense_dict[\"23\"])\n",
    "\n",
    "def extract_sense_from_gold(label):\n",
    "#     print(label)\n",
    "    split_idx = label.index(\"%\") + 3\n",
    "    super_sense = label[split_idx:split_idx+2]\n",
    "    return super_sense_dict[super_sense]\n",
    "    \n",
    "print(extract_sense_from_gold(\"alpine%3:01:00::\"))\n",
    "print(extract_sense_from_gold(\"42D.d011.s002.t008 experiment%2:41:02::\"))\n",
    "print(extract_sense_from_gold(\"42D.d012.s004.t005 foodstuff%1:13:00::\"))"
   ]
  },
  {
   "cell_type": "code",
   "execution_count": 59,
   "metadata": {
    "id": "Y8-PIbzdLIzp"
   },
   "outputs": [
    {
     "name": "stdout",
     "output_type": "stream",
     "text": [
      "Loading the known model 'sensebert-large-uncased'\n",
      "INFO:tensorflow:Restoring parameters from gs://ai21-public-models/sensebert-large-uncased/variables/variables\n",
      "Loading the known tokenizer 'sensebert-large-uncased'\n",
      "32 0\n",
      "32 1\n",
      "32 2\n",
      "32 3\n",
      "32 4\n",
      "32 0\n",
      "32 0\n",
      "32 3\n",
      "32 1\n",
      "32 0\n",
      "32 1\n",
      "18 2\n",
      "370 370\n",
      "150\n"
     ]
    }
   ],
   "source": [
    "dev = list(zip(d42_data, d42_gold))\n",
    "BATCH_SIZE = 32\n",
    "ITERATIONS = (len(d42_data) // BATCH_SIZE) + 1\n",
    "\n",
    "predictions = []\n",
    "total_correct = 0\n",
    "correct_examples = []\n",
    "incorrect_examples = []\n",
    "total_skipped = 0\n",
    "\n",
    "with tf.Session() as session:\n",
    "    sensebert_model = SenseBert(\"sensebert-large-uncased\", session=session)  # or sensebert-large-uncased\n",
    "    \n",
    "    \n",
    "    TP, FP, TN, FN = 0, 0, 0, 0\n",
    "\n",
    "    all_ids = list(d42_data.keys())\n",
    "    \n",
    "    for i in range(ITERATIONS):\n",
    "        start_idx = i * BATCH_SIZE\n",
    "        end_idx = min((i+1) * BATCH_SIZE, len(d42_data))\n",
    "        \n",
    "        sentences = []\n",
    "        poses = []\n",
    "        target_words = []\n",
    "        \n",
    "        for j in range(start_idx, end_idx):\n",
    "            idd = all_ids[j]\n",
    "            target_word, s, pos = d42_data[idd]\n",
    "            \n",
    "            sentences.append(s)\n",
    "            poses.append(pos)\n",
    "            target_words.append(target_word)\n",
    "\n",
    "\n",
    "        input_ids, input_mask = sensebert_model.tokenize(sentences)\n",
    "        model_outputs = sensebert_model.run(input_ids, input_mask)\n",
    "        contextualized_embeddings, mlm_logits, supersense_logits = model_outputs  # these are NumPy arrays\n",
    "        \n",
    "        found_indices = []\n",
    "        skipping_instances = set()\n",
    "        for j in range(0, end_idx-start_idx):\n",
    "            \n",
    "            curr_sentence_tokenized = sensebert_model.tokenizer.convert_ids_to_tokens(input_ids[j])\n",
    "            curr_sentence_tokenized_stemmed = [ps.stem(w) for w in curr_sentence_tokenized]\n",
    "            \n",
    "            idd = all_ids[j+start_idx]\n",
    "            target_word, s, pos = d42_data[idd]\n",
    "            target_word = ps.stem(target_word.lower())\n",
    "            \n",
    "            try:\n",
    "                target_index = curr_sentence_tokenized_stemmed.index(target_word)\n",
    "#                 print(target_index, curr_sentence_tokenized[target_index], d42_data[idd][0])\n",
    "                found_indices.append(target_index)\n",
    "            except:\n",
    "#                 print(\"ERROR\")\n",
    "#                 print(target_word, curr_sentence_tokenized_stemmed, curr_sentence_tokenized)\n",
    "#                 print(\"ERROR\")\n",
    "                found_indices.append(-1)\n",
    "                skipping_instances.add(j)\n",
    "        print(len(found_indices), len(skipping_instances))\n",
    "        \n",
    "        for j in range(0, end_idx-start_idx):\n",
    "            if j in skipping_instances:\n",
    "                total_skipped += 1\n",
    "                predictions.append(\"skipped\")\n",
    "                continue\n",
    "            target_word_idx = found_indices[j]\n",
    "            prediction = sensebert_model.tokenizer.convert_ids_to_senses([np.argmax(supersense_logits[j][target_word_idx])])\n",
    "            predictions.append(prediction)\n",
    "            \n",
    "    print(len(predictions), len(d42_gold))\n",
    "    \n",
    "    for j in range(len(predictions)):\n",
    "        prediction = predictions[j]\n",
    "        curr_key = list(d42_data.keys())[j]\n",
    "        gold_label = d42_gold[curr_key][0]\n",
    "#         print(extract_sense_from_gold(gold_label))\n",
    "#         print(prediction)\n",
    "        if prediction[0] == extract_sense_from_gold(gold_label):\n",
    "            correct_examples.append([curr_key, prediction[0]])\n",
    "            total_correct += 1\n",
    "        else:\n",
    "            incorrect_examples.append([curr_key, prediction[0]])\n",
    "                    \n",
    "    print(total_correct)"
   ]
  },
  {
   "cell_type": "code",
   "execution_count": 60,
   "metadata": {
    "id": "a8IftejprXNF"
   },
   "outputs": [
    {
     "name": "stdout",
     "output_type": "stream",
     "text": [
      "Accuracy: 0.42492917847025496\n"
     ]
    }
   ],
   "source": [
    "print(\"Accuracy:\", total_correct / (len(d42_gold)-total_skipped))"
   ]
  },
  {
   "cell_type": "code",
   "execution_count": 65,
   "metadata": {
    "id": "be8JxeBbrebs"
   },
   "outputs": [],
   "source": [
    "def write_predictions_to_file(filename, preds):\n",
    "    with open(filename, 'w') as file:\n",
    "        for j, pred in enumerate(preds):\n",
    "            curr_key = list(d42_data.keys())[j]\n",
    "            target_word, s, pos = d42_data[curr_key]\n",
    "            line = f\"Target word: {target_word}\\nKey: {curr_key}\\nSentence: {s}\\nPrediction: {pred}\\n\\n\"\n",
    "            file.write(line)\n",
    "            \n",
    "def write_tuples_to_file(filename, examples):\n",
    "    with open(filename, 'w') as file:\n",
    "        for example in examples:\n",
    "            curr_key, pred = example\n",
    "            target_word, s, pos = d42_data[curr_key]\n",
    "            gold_label = d42_gold[curr_key][0]\n",
    "            actual_sense = extract_sense_from_gold(gold_label)\n",
    "            line = f\"Target word: {target_word}\\nKey: {curr_key}\\nSentence: {s}\\nPrediction: {pred}\\nActual Sense: {actual_sense}\\n\\n\"\n",
    "            file.write(line)"
   ]
  },
  {
   "cell_type": "code",
   "execution_count": 66,
   "metadata": {
    "id": "kegtxEtdrjav"
   },
   "outputs": [],
   "source": [
    "write_predictions_to_file(\"42d_preds_sensebert_final.txt\", predictions)\n",
    "\n",
    "write_tuples_to_file(\"42d_correct_sensebert.txt\", correct_examples)\n",
    "write_tuples_to_file(\"42d_incorrect_sensebert.txt\", incorrect_examples)"
   ]
  },
  {
   "cell_type": "code",
   "execution_count": null,
   "metadata": {},
   "outputs": [],
   "source": []
  }
 ],
 "metadata": {
  "colab": {
   "provenance": []
  },
  "kernelspec": {
   "display_name": "Python 3",
   "language": "python",
   "name": "python3"
  },
  "language_info": {
   "codemirror_mode": {
    "name": "ipython",
    "version": 3
   },
   "file_extension": ".py",
   "mimetype": "text/x-python",
   "name": "python",
   "nbconvert_exporter": "python",
   "pygments_lexer": "ipython3",
   "version": "3.7.10"
  }
 },
 "nbformat": 4,
 "nbformat_minor": 1
}
